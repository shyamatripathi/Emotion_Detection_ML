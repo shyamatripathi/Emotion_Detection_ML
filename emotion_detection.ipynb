{
 "cells": [
  {
   "cell_type": "code",
   "execution_count": 4,
   "id": "822a3360-5479-47df-8cfc-758bc71d5271",
   "metadata": {},
   "outputs": [],
   "source": [
    "# Import necessary libraries\n",
    "import pandas as pd\n",
    "from sklearn.model_selection import train_test_split\n",
    "from sklearn.feature_extraction.text import TfidfVectorizer\n",
    "from sklearn.linear_model import LogisticRegression\n",
    "from sklearn.metrics import classification_report, accuracy_score"
   ]
  },
  {
   "cell_type": "code",
   "execution_count": 5,
   "id": "2037e74b-ed37-4adb-afd8-a3bf1c109f57",
   "metadata": {},
   "outputs": [
    {
     "name": "stdout",
     "output_type": "stream",
     "text": [
      "Validation Accuracy: 0.837\n",
      "Classification Report (Validation):\n",
      "               precision    recall  f1-score   support\n",
      "\n",
      "           0       0.82      0.91      0.87       550\n",
      "           1       0.83      0.93      0.88       704\n",
      "           2       0.86      0.66      0.75       178\n",
      "           3       0.89      0.73      0.80       275\n",
      "           4       0.84      0.71      0.77       212\n",
      "           5       0.83      0.60      0.70        81\n",
      "\n",
      "    accuracy                           0.84      2000\n",
      "   macro avg       0.85      0.76      0.79      2000\n",
      "weighted avg       0.84      0.84      0.83      2000\n",
      "\n",
      "Test Accuracy: 0.848\n",
      "Classification Report (Test):\n",
      "               precision    recall  f1-score   support\n",
      "\n",
      "           0       0.88      0.92      0.90       581\n",
      "           1       0.82      0.93      0.87       695\n",
      "           2       0.78      0.61      0.69       159\n",
      "           3       0.89      0.77      0.83       275\n",
      "           4       0.87      0.76      0.81       224\n",
      "           5       0.80      0.53      0.64        66\n",
      "\n",
      "    accuracy                           0.85      2000\n",
      "   macro avg       0.84      0.75      0.79      2000\n",
      "weighted avg       0.85      0.85      0.84      2000\n",
      "\n"
     ]
    }
   ],
   "source": [
    "# Import necessary libraries\n",
    "import pandas as pd\n",
    "from sklearn.model_selection import train_test_split\n",
    "from sklearn.feature_extraction.text import TfidfVectorizer\n",
    "from sklearn.linear_model import LogisticRegression\n",
    "from sklearn.metrics import classification_report, accuracy_score\n",
    "# Loading predefined training, validation, and test datasets\n",
    "train_df = pd.read_csv('training.csv')\n",
    "val_df = pd.read_csv('validation.csv')\n",
    "test_df = pd.read_csv('test.csv')\n",
    "\n",
    "# Preprocess the text (example: lowercasing and removing non-alphanumeric characters)\n",
    "def preprocess_text(text):\n",
    "    # Lowercase the text\n",
    "    text = text.lower()\n",
    "    # Remove non-alphanumeric characters\n",
    "    text = ''.join([char for char in text if char.isalnum() or char.isspace()])\n",
    "    return text\n",
    "\n",
    "# Apply preprocessing to each dataset\n",
    "train_df['processed_text'] = train_df['text'].apply(preprocess_text)\n",
    "val_df['processed_text'] = val_df['text'].apply(preprocess_text)\n",
    "test_df['processed_text'] = test_df['text'].apply(preprocess_text)\n",
    "\n",
    "# Extract features (X) and labels (y) from the preprocessed text\n",
    "X_train = train_df['processed_text']\n",
    "y_train = train_df['label']\n",
    "X_val = val_df['processed_text']\n",
    "y_val = val_df['label']\n",
    "X_test = test_df['processed_text']\n",
    "y_test = test_df['label']\n",
    "\n",
    "# Convert text data to numeric form using TF-IDF Vectorization\n",
    "vectorizer = TfidfVectorizer(max_features=1000)  # You can adjust the number of features as needed\n",
    "X_train_tfidf = vectorizer.fit_transform(X_train)\n",
    "X_val_tfidf = vectorizer.transform(X_val)\n",
    "X_test_tfidf = vectorizer.transform(X_test)\n",
    "\n",
    "# Train a simple machine learning model (Logistic Regression)\n",
    "model = LogisticRegression()\n",
    "model.fit(X_train_tfidf, y_train)\n",
    "\n",
    "# Evaluate the model on the validation set\n",
    "y_val_pred = model.predict(X_val_tfidf)\n",
    "print(\"Validation Accuracy:\", accuracy_score(y_val, y_val_pred))\n",
    "print(\"Classification Report (Validation):\\n\", classification_report(y_val, y_val_pred))\n",
    "\n",
    "# Evaluate the model on the test set\n",
    "y_test_pred = model.predict(X_test_tfidf)\n",
    "print(\"Test Accuracy:\", accuracy_score(y_test, y_test_pred))\n",
    "print(\"Classification Report (Test):\\n\", classification_report(y_test, y_test_pred))"
   ]
  },
  {
   "cell_type": "code",
   "execution_count": null,
   "id": "e9cae764-2151-4903-8eba-d2671ecd144b",
   "metadata": {},
   "outputs": [],
   "source": []
  }
 ],
 "metadata": {
  "kernelspec": {
   "display_name": "Python 3 (ipykernel)",
   "language": "python",
   "name": "python3"
  },
  "language_info": {
   "codemirror_mode": {
    "name": "ipython",
    "version": 3
   },
   "file_extension": ".py",
   "mimetype": "text/x-python",
   "name": "python",
   "nbconvert_exporter": "python",
   "pygments_lexer": "ipython3",
   "version": "3.12.1"
  }
 },
 "nbformat": 4,
 "nbformat_minor": 5
}
